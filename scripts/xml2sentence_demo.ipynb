{
 "cells": [
  {
   "cell_type": "markdown",
   "metadata": {},
   "source": [
    "# XML 2 Sentence Format Demo\n",
    "\n",
    "This notebook is for showing how to convert the XML format to sentences for training in other models."
   ]
  },
  {
   "cell_type": "code",
   "execution_count": 12,
   "metadata": {},
   "outputs": [
    {
     "name": "stdout",
     "output_type": "stream",
     "text": [
      "* loaded all libraries\n"
     ]
    }
   ],
   "source": [
    "import medtator_kits as mtk\n",
    "\n",
    "# load spacy and config the sentencizer\n",
    "from spacy.lang.en import English\n",
    "nlp = English()\n",
    "nlp.add_pipe(\"sentencizer\")\n",
    "\n",
    "# Create a Tokenizer with the default settings for English\n",
    "# including punctuation rules and exceptions\n",
    "tokenizer = nlp.tokenizer\n",
    "\n",
    "print('* loaded all libraries')"
   ]
  },
  {
   "cell_type": "markdown",
   "metadata": {},
   "source": [
    "## Load Files\n",
    "\n"
   ]
  },
  {
   "cell_type": "code",
   "execution_count": 10,
   "metadata": {},
   "outputs": [
    {
     "name": "stdout",
     "output_type": "stream",
     "text": [
      "* checking path ../sample/ENTITY_RELATION_TASK/ann_xml/Annotator_A/\n",
      "* parsed XML file ../sample/ENTITY_RELATION_TASK/ann_xml/Annotator_A/A_doc2.txt.xml\n",
      "* parsed XML file ../sample/ENTITY_RELATION_TASK/ann_xml/Annotator_A/A_doc3.txt.xml\n",
      "* parsed XML file ../sample/ENTITY_RELATION_TASK/ann_xml/Annotator_A/A_doc1.txt.xml\n",
      "* parsed XML file ../sample/ENTITY_RELATION_TASK/ann_xml/Annotator_A/A_doc4.txt.xml\n",
      "* checked 4 files\n",
      "* found 4 XML files\n",
      "* skipped 0 non-XML files\n",
      "{'total_files': 4, 'total_xml_files': 4, 'total_other_files': 0, 'total_tags': 52}\n"
     ]
    }
   ],
   "source": [
    "path = '../sample/ENTITY_RELATION_TASK/ann_xml/Annotator_A/'\n",
    "rst = mtk.parse_xmls(path)\n",
    "print(rst['stat'])"
   ]
  },
  {
   "cell_type": "markdown",
   "metadata": {},
   "source": [
    "## Parse and convert format\n",
    "\n",
    "We want to convert the text into a sentence-based format for downstream task (e.g., training relation extraction), so first of all, a sentencizer and a tokenizer are needed.\n",
    "You can use any libraries for this purpose.\n",
    "\n",
    "For here, we use `spaCy`'s [Sentencizer](https://spacy.io/api/sentencizer) and [Tokenizer](https://spacy.io/api/tokenizer).\n",
    "\n",
    "```Python\n",
    "\n",
    "# Use Sentencizer\n",
    "from spacy.lang.en import English\n",
    "nlp = English()\n",
    "nlp.add_pipe(\"sentencizer\")\n",
    "doc = nlp(\"This is a sentence. This is another sentence.\")\n",
    "for sent in doc.sents:\n",
    "    print(sent)\n",
    "\n",
    "```\n",
    "\n",
    "Second, we need a way to map the spans to token index"
   ]
  },
  {
   "cell_type": "code",
   "execution_count": 13,
   "metadata": {},
   "outputs": [
    {
     "data": {
      "text/plain": [
       "This is a sent"
      ]
     },
     "execution_count": 13,
     "metadata": {},
     "output_type": "execute_result"
    }
   ],
   "source": [
    "tokens = tokenizer(\"This is a sent\")\n",
    "\n",
    "tokens"
   ]
  },
  {
   "cell_type": "code",
   "execution_count": 20,
   "metadata": {},
   "outputs": [
    {
     "data": {
      "text/plain": [
       "'This'"
      ]
     },
     "execution_count": 20,
     "metadata": {},
     "output_type": "execute_result"
    }
   ],
   "source": [
    "list(tokens)[0].text"
   ]
  },
  {
   "cell_type": "markdown",
   "metadata": {},
   "source": [
    "### Sentence-based format\n",
    "\n",
    "In the following demo, we will convert each XML file into a sentence-based format, which looks like the following:\n",
    "\n",
    "```json\n",
    "{\n",
    "    \"text\": \"The full text of the file\",\n",
    "    \"sentence_tags\": [{\n",
    "        \"sentence\": \"a sentence\",\n",
    "        \"spans\": [start, end],\n",
    "        \"entities\": [{\n",
    "\n",
    "        }],\n",
    "        \"relations\": [{\n",
    "            \n",
    "        }]\n",
    "    }]\n",
    "}\n",
    "```"
   ]
  },
  {
   "cell_type": "code",
   "execution_count": 11,
   "metadata": {},
   "outputs": [],
   "source": [
    "# a helper function for checking whether a tag is overlapped in a sentence\n",
    "def is_overlapped(a, b):\n",
    "    if a[0] >= b[0] and a[0] < b[1]:\n",
    "        return True\n",
    "    \n",
    "    if a[1] > b[0] and a[1] <= b[1]:\n",
    "        return True\n",
    "    \n",
    "    # the missing for contains\n",
    "    if a[0] <= b[0] and a[1] >= b[1]:\n",
    "        return True\n",
    "    \n",
    "    if b[0] <= a[0] and b[1] >= a[1]:\n",
    "        return True\n",
    "        \n",
    "    return False"
   ]
  },
  {
   "cell_type": "code",
   "execution_count": 24,
   "metadata": {},
   "outputs": [
    {
     "name": "stdout",
     "output_type": "stream",
     "text": [
      "* done!\n"
     ]
    }
   ],
   "source": [
    "# new format results\n",
    "rs = []\n",
    "\n",
    "# check each ann\n",
    "for ann in rst['anns']:\n",
    "    # first, create a record\n",
    "    r = {\n",
    "        \"text\": ann['text'],\n",
    "        \"sentence_tags\": []\n",
    "    }\n",
    "\n",
    "    # get the sentences\n",
    "    doc = nlp(ann['text'])\n",
    "    for sent in doc.sents:\n",
    "        tokens = list(map(lambda v: v.text, tokenizer(sent.text)))\n",
    "        st = {\n",
    "            'sentence': sent.text,\n",
    "            'sentence_tokens': tokens,\n",
    "            'spans': [\n",
    "                sent.start_char,\n",
    "                sent.end_char\n",
    "            ]\n",
    "        }\n",
    "\n",
    "        r['sentence_tags'].append(st)\n",
    "\n",
    "    # finally, save this record\n",
    "    rs.append(r)\n",
    "\n",
    "print(\"* done!\")"
   ]
  }
 ],
 "metadata": {
  "kernelspec": {
   "display_name": "NLPy37",
   "language": "python",
   "name": "nlpy37"
  },
  "language_info": {
   "codemirror_mode": {
    "name": "ipython",
    "version": 3
   },
   "file_extension": ".py",
   "mimetype": "text/x-python",
   "name": "python",
   "nbconvert_exporter": "python",
   "pygments_lexer": "ipython3",
   "version": "3.7.13"
  },
  "orig_nbformat": 4,
  "vscode": {
   "interpreter": {
    "hash": "31f2aee4e71d21fbe5cf8b01ff0e069b9275f58929596ceb00d14d90e3e16cd6"
   }
  }
 },
 "nbformat": 4,
 "nbformat_minor": 2
}
